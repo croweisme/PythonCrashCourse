{
 "cells": [
  {
   "cell_type": "markdown",
   "metadata": {},
   "source": [
    "# Changing String Case - Chapter 2 of Python Crash Course"
   ]
  },
  {
   "cell_type": "code",
   "execution_count": 28,
   "metadata": {},
   "outputs": [
    {
     "name": "stdout",
     "output_type": "stream",
     "text": [
      "Mary Shelley\n",
      "The Unknown\n",
      "The Beautiful People\n",
      "Unwind\n",
      "The Statement Is In All Caps\n"
     ]
    }
   ],
   "source": [
    "#Title Case\n",
    "\n",
    "name = \"mary shelley\"\n",
    "print(name.title())\n",
    "\n",
    "movie = \"the unknown\"\n",
    "print(movie.title())\n",
    "\n",
    "song = \"the beautiful people\"\n",
    "print(song.title())\n",
    "\n",
    "book = \"uNwInD\"\n",
    "print(book.title())\n",
    "\n",
    "statement = \"THE STATEMENT IS IN ALL CAPS\"\n",
    "print(statement.title())"
   ]
  },
  {
   "cell_type": "code",
   "execution_count": 29,
   "metadata": {},
   "outputs": [
    {
     "name": "stdout",
     "output_type": "stream",
     "text": [
      "UNWIND\n",
      "unwind\n",
      "THE BEAUTIFUL PEOPLE\n",
      "the beautiful people\n",
      "THE UNKNOWN\n",
      "the unknown\n",
      "THIS IS A STRING\n"
     ]
    }
   ],
   "source": [
    "#Upper and Lower case\n",
    "\n",
    "print(book.upper())\n",
    "print(book.lower())\n",
    "\n",
    "print(song.upper())\n",
    "print(song.lower())\n",
    "\n",
    "print(movie.upper())\n",
    "print(movie.lower())\n",
    "\n",
    "#you can also convert them this way, and it will persist outside the print statement \n",
    "string = \"this is a string\"\n",
    "string = string.upper()\n",
    "\n",
    "print(string)"
   ]
  },
  {
   "cell_type": "code",
   "execution_count": 30,
   "metadata": {},
   "outputs": [
    {
     "name": "stdout",
     "output_type": "stream",
     "text": [
      "Crowe Jacobs\n",
      "Hello, Crowe Jacobs!\n",
      "What's Up, Crowe Jacobs?\n"
     ]
    }
   ],
   "source": [
    "#Inserting a variables value into a string\n",
    "    #You can attach strings together this way\n",
    "\n",
    "first_name = \"crowe\"\n",
    "last_name = \"jacobs\"\n",
    "\n",
    "full_name = f\"{first_name} {last_name}\" #python considers the space between these curly braces to be part of the string, so thats how you space the names correctly\n",
    "\n",
    "print(full_name.title())\n",
    "\n",
    "print(f\"Hello, {full_name.title()}!\")\n",
    "\n",
    "message = f\"What's Up, {full_name.title()}?\"\n",
    "print(message)"
   ]
  },
  {
   "cell_type": "code",
   "execution_count": 31,
   "metadata": {},
   "outputs": [
    {
     "name": "stdout",
     "output_type": "stream",
     "text": [
      "\tHyello\n",
      "\t\t\t\t\tHello all the way from over here\n",
      "Look\n",
      "At\n",
      "Me\n",
      "Go\n",
      "A\n",
      "\tL\n",
      "\n",
      "\n",
      "P\t\t\t\n",
      "H\tA\t\tB\n",
      "\tE\n",
      "\n",
      "\tT S\t\t\n",
      "OU\t\t\n",
      "\n",
      "P\n"
     ]
    }
   ],
   "source": [
    "#Adding Whitespace and Newlines using \\commands inside strings\n",
    "\n",
    "print(\"\\tHyello\")\n",
    "print(\"\\t\\t\\t\\t\\tHello all the way from over here\")\n",
    "print(\"Look\\nAt\\nMe\\nGo\")\n",
    "print(\"A\\n\\tL\\n\\n\\nP\\t\\t\\t\\nH\\tA\\t\\tB\\n\\tE\\n\\n\\tT S\\t\\t\\nOU\\t\\t\\n\\nP\")"
   ]
  },
  {
   "cell_type": "code",
   "execution_count": 33,
   "metadata": {},
   "outputs": [],
   "source": [
    "import this"
   ]
  }
 ],
 "metadata": {
  "interpreter": {
   "hash": "875aadfef83df2dec9c378042efa51d178859156fd6e2fc4ca66081784757c1e"
  },
  "kernelspec": {
   "display_name": "Python 3.8.8 64-bit ('base': conda)",
   "name": "python3"
  },
  "language_info": {
   "codemirror_mode": {
    "name": "ipython",
    "version": 3
   },
   "file_extension": ".py",
   "mimetype": "text/x-python",
   "name": "python",
   "nbconvert_exporter": "python",
   "pygments_lexer": "ipython3",
   "version": "3.8.8"
  },
  "orig_nbformat": 4
 },
 "nbformat": 4,
 "nbformat_minor": 2
}
